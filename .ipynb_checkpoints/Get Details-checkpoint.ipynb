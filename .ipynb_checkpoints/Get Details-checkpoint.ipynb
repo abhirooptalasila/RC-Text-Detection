{
 "cells": [
  {
   "cell_type": "markdown",
   "metadata": {},
   "source": [
    "# Detect the following fields from a RC\n",
    "\n",
    "- License plate number or Regn number\n",
    "- VIN number or Chassis number (typically 17 digit long)\n",
    "- Name\n",
    "- Engine number\n",
    "- Registration date\n",
    "- Mfg. date\n",
    "\n",
    "1) Import modeules and load AWS Rekognition JSON output"
   ]
  },
  {
   "cell_type": "code",
   "execution_count": 1,
   "metadata": {},
   "outputs": [],
   "source": [
    "import os\n",
    "import json\n",
    "import re\n",
    "\n",
    "with open('output.json') as fp:\n",
    "    json_value = json.load(fp)"
   ]
  },
  {
   "cell_type": "code",
   "execution_count": 2,
   "metadata": {},
   "outputs": [],
   "source": [
    "text_values = []\n",
    "for x in json_value['textFound']['TextDetections']:\n",
    "    text_values.append(x['DetectedText']) "
   ]
  },
  {
   "cell_type": "code",
   "execution_count": 3,
   "metadata": {},
   "outputs": [
    {
     "name": "stdout",
     "output_type": "stream",
     "text": [
      "REGN. NO :\n",
      "DL2CAU7997\n",
      "REG. DT 02/05/2015\n",
      "CH. NO O SNO 01\n",
      "MA3FLEB1S00309631 MFG CD: MSILTD\n",
      "E NO D13A2554860 COLOR SERENE BLU\n",
      "CLASS LM.V.\n",
      "NAME MANJEET SINGH\n",
      "S/WID OF JOGINDER SINGH\n",
      "ADDRESS B-147\n",
      "MANSAROVER GARDEN\n",
      "NEW DELHI 110015\n",
      "MODEL ERTIGA ZDI (M)\n",
      "BODY SALOON NO. OF CYL\n",
      "WT :\n",
      "WHEEL BASE : 0 UNLADEN\n",
      "REGN.\n",
      "NO :\n",
      "DL2CAU7997\n",
      "REG.\n",
      "DT\n",
      "02/05/2015\n",
      "O\n",
      "SNO\n",
      "01\n",
      "CH.\n",
      "NO\n",
      "MA3FLEB1S00309631\n",
      "MFG\n",
      "CD:\n",
      "MSILTD\n",
      "E\n",
      "NO\n",
      "D13A2554860\n",
      "COLOR\n",
      "SERENE\n",
      "BLU\n",
      "CLASS\n",
      "LM.V.\n",
      "NAME\n",
      "MANJEET\n",
      "SINGH\n",
      "S/WID\n",
      "OF\n",
      "JOGINDER\n",
      "SINGH\n",
      "ADDRESS\n",
      "B-147\n",
      "MANSAROVER GARDEN\n",
      "NEW\n",
      "DELHI\n",
      "110015\n",
      "MODEL\n",
      "ERTIGA\n",
      "ZDI\n",
      "(M)\n",
      "BODY\n",
      "SALOON\n",
      "NO.\n",
      "OF\n",
      "CYL\n",
      "WHEEL\n",
      "BASE :\n",
      "0\n",
      "UNLADEN\n",
      "WT :\n"
     ]
    }
   ],
   "source": [
    "for f in text_values:\n",
    "    print(f)"
   ]
  },
  {
   "cell_type": "code",
   "execution_count": 4,
   "metadata": {},
   "outputs": [
    {
     "name": "stdout",
     "output_type": "stream",
     "text": [
      "license_plate DL2CAU7997\n",
      "reg_date:  02/05/2015\n",
      "new chass:  MA3FLEB1S00309631\n",
      "engine:  D13A2554860\n",
      "name:  MANJEET SINGH\n",
      "license_plate DL2CAU7997\n",
      "new chass:  MA3FLEB1S00309631\n"
     ]
    }
   ],
   "source": [
    "license_fields = {}\n",
    "\n",
    "for field in text_values:\n",
    "    # ------ Check for Registration Number ---------\n",
    "    if re.search('REGN',field) is not None:\n",
    "        license_plate=re.search(\"[A-Z]{2}[0-9]{1,2}[A-Z]{1,3}[0-9]{1,4}$\",field)\n",
    "        if license_plate is not None:\n",
    "            license_plate = field[license_plate.start(): license_plate.end()]\n",
    "            print(\"license_plate\",license_plate)\n",
    "            license_fields.update({'license_plate':''.join(license_plate.split())})\n",
    "        continue\n",
    "        \n",
    "    # ------ Check for Registration Date ---------\n",
    "    elif re.search('REG. DT', field) is not None: \n",
    "        reg_date=re.search(\"[0-9]{1,2}[/][0-9]{1,2}[/][0-9]{1,4}\",field)\n",
    "        if reg_date is not None:\n",
    "            reg_date = field[reg_date.start():reg_date.end()]\n",
    "            print(\"reg_date: \",reg_date)\n",
    "            license_fields.update({'reg_date':''.join(reg_date.split())})\n",
    "        continue\n",
    "        \n",
    "    # ------ Check for Chassis Number ---------\n",
    "    elif re.search('CH', field) is not None: \n",
    "        chass=re.search(\"[a-zA-Z]{1,3}[0-9][a-zA-Z]{1,4}.*[0-9]{6,8}\",field)\n",
    "        if chass is not None:\n",
    "            chass = field[chass.start():chass.end()]\n",
    "            print(\"chass: \",chass)\n",
    "            license_fields.update({'chass_num':''.join(chass.split())}) \n",
    "        continue\n",
    "    \n",
    "    # ------ Check for Name ---------\n",
    "    elif re.search('NAME', field) is not None: \n",
    "        field = field[re.search('NAME', field).end():]\n",
    "        name=re.search(\"[a-zA-Z].*[a-zA-Z]\",field)\n",
    "        if name is not None:\n",
    "            name = field[name.start():name.end()]\n",
    "            print(\"name: \",name)\n",
    "            license_fields.update({'name':name})\n",
    "        continue\n",
    "        \n",
    "    # ------ Check for Engine Number ---------\n",
    "    elif re.search('E NO', field) is not None: \n",
    "        eng=re.search(\"[a-zA-Z]{1,3}[0-9].*[0-9]{3,6}\",field)\n",
    "        if eng is not None:\n",
    "            eng = field[eng.start():eng.end()]\n",
    "            print(\"engine: \",eng)\n",
    "            license_fields.update({'eng_num':''.join(eng.split())})\n",
    "        continue\n",
    "        \n",
    "    # ------ Check for Manufacturing Date ---------\n",
    "    elif re.search('MFG. DT', field) is not None: \n",
    "        mfg=re.search(\"[0-9]{1,2}[/][0-9]{1,2}[/][0-9]{1,4}\",field)\n",
    "        if mfg is not None:\n",
    "            mfg = field[mfg.start():mfg.end()]\n",
    "            print(\"mfg date: \",mfg)\n",
    "            license_fields.update({'mfg_date':''.join(mfg.split())})\n",
    "        continue\n",
    "        \n",
    "    # ------ Another Check for Chassis Number ---------\n",
    "    elif re.search(\"[a-zA-Z]{1,3}[0-9][a-zA-Z]{1,4}.*[0-9]{6,8}\",field) is not None: \n",
    "        chass=re.search(\"[A-Z]{1,5}[0-9].*[0-9]{4,6}\",field)\n",
    "        if chass is not None:\n",
    "            chass = field[chass.start():chass.end()]\n",
    "            print(\"new chass: \",chass)\n",
    "            license_fields.update({'chass_num':''.join(chass.split())}) \n",
    "        continue\n",
    "        \n",
    "    # ------ Another Check for Registration Number ---------\n",
    "    elif re.search(\"[A-Z]{2}[0-9]{1,2}[A-Z]{1,3}[0-9]{1,4}$\",field) is not None:\n",
    "        license_plate=re.search(\"[A-Z]{2}[0-9]{1,2}[A-Z]{1,3}[0-9]{1,4}$\",field)\n",
    "        if license_plate is not None:\n",
    "            license_plate = field[license_plate.start(): license_plate.end()]\n",
    "            print(\"license_plate\",license_plate)\n",
    "            license_fields.update({'license_plate':''.join(license_plate.split())})\n",
    "        continue"
   ]
  },
  {
   "cell_type": "code",
   "execution_count": 5,
   "metadata": {},
   "outputs": [
    {
     "data": {
      "text/plain": [
       "{'license_plate': 'DL2CAU7997',\n",
       " 'reg_date': '02/05/2015',\n",
       " 'chass_num': 'MA3FLEB1S00309631',\n",
       " 'eng_num': 'D13A2554860',\n",
       " 'name': 'MANJEET SINGH'}"
      ]
     },
     "execution_count": 5,
     "metadata": {},
     "output_type": "execute_result"
    }
   ],
   "source": [
    "license_fields"
   ]
  },
  {
   "cell_type": "code",
   "execution_count": null,
   "metadata": {},
   "outputs": [],
   "source": []
  }
 ],
 "metadata": {
  "kernelspec": {
   "display_name": "Python 3",
   "language": "python",
   "name": "python3"
  },
  "language_info": {
   "codemirror_mode": {
    "name": "ipython",
    "version": 3
   },
   "file_extension": ".py",
   "mimetype": "text/x-python",
   "name": "python",
   "nbconvert_exporter": "python",
   "pygments_lexer": "ipython3",
   "version": "3.7.7"
  }
 },
 "nbformat": 4,
 "nbformat_minor": 4
}
